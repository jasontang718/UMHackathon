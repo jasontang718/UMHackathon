{
  "nbformat": 4,
  "nbformat_minor": 0,
  "metadata": {
    "colab": {
      "provenance": []
    },
    "kernelspec": {
      "name": "python3",
      "display_name": "Python 3"
    },
    "language_info": {
      "name": "python"
    }
  },
  "cells": [
    {
      "cell_type": "code",
      "execution_count": 1,
      "metadata": {
        "colab": {
          "base_uri": "https://localhost:8080/"
        },
        "id": "0skeOuB4LUgL",
        "outputId": "8a94b1b3-cc8c-4798-f971-7a8a2f2bdfe9"
      },
      "outputs": [
        {
          "output_type": "stream",
          "name": "stdout",
          "text": [
            "Requirement already satisfied: flask-cors in /usr/local/lib/python3.11/dist-packages (5.0.1)\n",
            "Requirement already satisfied: flask>=0.9 in /usr/local/lib/python3.11/dist-packages (from flask-cors) (3.1.0)\n",
            "Requirement already satisfied: Werkzeug>=0.7 in /usr/local/lib/python3.11/dist-packages (from flask-cors) (3.1.3)\n",
            "Requirement already satisfied: Jinja2>=3.1.2 in /usr/local/lib/python3.11/dist-packages (from flask>=0.9->flask-cors) (3.1.6)\n",
            "Requirement already satisfied: itsdangerous>=2.2 in /usr/local/lib/python3.11/dist-packages (from flask>=0.9->flask-cors) (2.2.0)\n",
            "Requirement already satisfied: click>=8.1.3 in /usr/local/lib/python3.11/dist-packages (from flask>=0.9->flask-cors) (8.1.8)\n",
            "Requirement already satisfied: blinker>=1.9 in /usr/local/lib/python3.11/dist-packages (from flask>=0.9->flask-cors) (1.9.0)\n",
            "Requirement already satisfied: MarkupSafe>=2.1.1 in /usr/local/lib/python3.11/dist-packages (from Werkzeug>=0.7->flask-cors) (3.0.2)\n",
            "Requirement already satisfied: pyngrok in /usr/local/lib/python3.11/dist-packages (7.2.3)\n",
            "Requirement already satisfied: PyYAML>=5.1 in /usr/local/lib/python3.11/dist-packages (from pyngrok) (6.0.2)\n",
            "Requirement already satisfied: gdown in /usr/local/lib/python3.11/dist-packages (5.2.0)\n",
            "Requirement already satisfied: beautifulsoup4 in /usr/local/lib/python3.11/dist-packages (from gdown) (4.13.3)\n",
            "Requirement already satisfied: filelock in /usr/local/lib/python3.11/dist-packages (from gdown) (3.18.0)\n",
            "Requirement already satisfied: requests[socks] in /usr/local/lib/python3.11/dist-packages (from gdown) (2.32.3)\n",
            "Requirement already satisfied: tqdm in /usr/local/lib/python3.11/dist-packages (from gdown) (4.67.1)\n",
            "Requirement already satisfied: soupsieve>1.2 in /usr/local/lib/python3.11/dist-packages (from beautifulsoup4->gdown) (2.6)\n",
            "Requirement already satisfied: typing-extensions>=4.0.0 in /usr/local/lib/python3.11/dist-packages (from beautifulsoup4->gdown) (4.13.1)\n",
            "Requirement already satisfied: charset-normalizer<4,>=2 in /usr/local/lib/python3.11/dist-packages (from requests[socks]->gdown) (3.4.1)\n",
            "Requirement already satisfied: idna<4,>=2.5 in /usr/local/lib/python3.11/dist-packages (from requests[socks]->gdown) (3.10)\n",
            "Requirement already satisfied: urllib3<3,>=1.21.1 in /usr/local/lib/python3.11/dist-packages (from requests[socks]->gdown) (2.3.0)\n",
            "Requirement already satisfied: certifi>=2017.4.17 in /usr/local/lib/python3.11/dist-packages (from requests[socks]->gdown) (2025.1.31)\n",
            "Requirement already satisfied: PySocks!=1.5.7,>=1.5.6 in /usr/local/lib/python3.11/dist-packages (from requests[socks]->gdown) (1.7.1)\n"
          ]
        }
      ],
      "source": [
        "!pip install flask-cors\n",
        "!pip install pyngrok\n",
        "!pip install gdown\n"
      ]
    },
    {
      "cell_type": "code",
      "source": [
        "import os\n",
        "import pandas as pd\n",
        "from flask import Flask, request, jsonify\n",
        "from flask_cors import CORS\n",
        "import google.generativeai as genai\n",
        "from collections import defaultdict\n",
        "from google.colab import drive\n",
        "from google.colab import userdata\n",
        "\n",
        "# Initialize Flask app\n",
        "app = Flask(__name__)\n",
        "CORS(app, resources={r\"/ask\": {\"origins\": \"http://127.0.0.1:5500\"}})\n",
        "\n",
        "# Mount Google Drive\n",
        "drive.mount('/content/drive')\n",
        "\n",
        "# Dataset folder path in Google Drive\n",
        "DATASET_FOLDER = '/content/drive/MyDrive/dataset'\n",
        "\n",
        "# API Keys from Colab\n",
        "GOOGLE_API_KEY = userdata.get('GOOGLE_API_KEY')\n",
        "NGROK_AUTH_TOKEN = userdata.get('NGROK_AUTH_TOKEN')\n",
        "\n",
        "if not GOOGLE_API_KEY:\n",
        "    raise RuntimeError(\"Error: Please set the 'GOOGLE_API_KEY' secret in Colab.\")\n",
        "\n",
        "# Configure Gemini model\n",
        "genai.configure(api_key=GOOGLE_API_KEY)\n",
        "model = genai.GenerativeModel(model_name='gemini-2.0-flash')\n",
        "\n",
        "# Summarize all CSV datasets\n",
        "def summarize_datasets():\n",
        "    dataset_summaries = []\n",
        "\n",
        "    for file_name in os.listdir(DATASET_FOLDER):\n",
        "        if file_name.endswith('.csv'):\n",
        "            file_path = os.path.join(DATASET_FOLDER, file_name)\n",
        "            try:\n",
        "\n",
        "                df = pd.read_csv(file_path)\n",
        "\n",
        "                # Default value\n",
        "                top_item_id = \"N/A\"\n",
        "\n",
        "                # Get top-selling item_id by frequency\n",
        "                if 'item_id' in df.columns:\n",
        "                    try:\n",
        "                        df = df.dropna(subset=['item_id'])\n",
        "                        top_item_id = df['item_id'].value_counts().idxmax()\n",
        "                    except Exception as e:\n",
        "                        print(f\"Error identifying top item_id in {file_name}: {e}\")\n",
        "\n",
        "                summary = {\n",
        "                    \"file\": file_name,\n",
        "                    \"total_rows\": df.shape[0],\n",
        "                    \"columns\": df.columns.tolist(),\n",
        "                    \"data_types\": df.dtypes.astype(str).to_dict(),\n",
        "                    \"missing_values\": df.isnull().sum().to_dict(),\n",
        "                    \"top_selling_item\": top_item_id  # this is now based on item_id frequency\n",
        "                }\n",
        "\n",
        "                dataset_summaries.append(summary)\n",
        "\n",
        "            except Exception as e:\n",
        "                print(f\"Error reading file {file_name}: {e}\")\n",
        "\n",
        "    return dataset_summaries\n",
        "\n",
        "# Chat endpoint\n",
        "@app.route('/ask', methods=['POST', 'OPTIONS'])\n",
        "def ask():\n",
        "    if request.method == 'OPTIONS':\n",
        "        return jsonify({'message': 'CORS preflight successful'}), 200\n",
        "\n",
        "    user_query = request.json.get('query', '')\n",
        "    if not user_query:\n",
        "        return jsonify({'error': 'Query is required'}), 400\n",
        "\n",
        "    try:\n",
        "        dataset_summaries = summarize_datasets()\n",
        "\n",
        "        corpus_prompt = f\"\"\"\n",
        "        You are an AI chatbot assistant helping a restaurant merchant analyze their sales data and provide insights and recommendations.\n",
        "\n",
        "        Here are summaries and pre-analyzed insights from the merchant’s datasets:\n",
        "        {dataset_summaries}\n",
        "\n",
        "        The merchant asked: \"{user_query}\"\n",
        "\n",
        "        Respond directly with a confident answer.\n",
        "        Do not explain your process or how you got the answer.\n",
        "        Do not mention file names, column names, or any backend information.\n",
        "        Use any included insights like 'top_selling_item' to answer clearly.\n",
        "        No introductions, no explanations, just give the answer.\n",
        "\n",
        "        Respond in a clear, helpful, and concise way. Get straight to the point and avoid unnecessary explanations.\n",
        "        Do not show any calculations to the merchant.\n",
        "\n",
        "        Focus on answering the question directly.\n",
        "        Do not mention any backend processes, column names, files names, or code logic.\n",
        "        Keep the response informative but minimal.\n",
        "\n",
        "        Give a direct, confident answer — no introductions, no step-by-step explanations, no backend references such as files, column names, variables, calculations, or methods.\n",
        "        Do not explain how you are calculating or getting the data.\n",
        "        \"\"\"\n",
        "\n",
        "        response = model.generate_content(corpus_prompt, generation_config={\"temperature\": 0.2})\n",
        "        return jsonify({'response': response.text}), 200\n",
        "\n",
        "    except Exception as e:\n",
        "        print(f\"Error processing query: {e}\")\n",
        "        return jsonify({'error': str(e)}), 500\n",
        "\n",
        "# Start Flask app with ngrok\n",
        "if __name__ == '__main__':\n",
        "    from pyngrok import ngrok\n",
        "    if NGROK_AUTH_TOKEN:\n",
        "        ngrok.set_auth_token(NGROK_AUTH_TOKEN)\n",
        "        try:\n",
        "            public_url = ngrok.connect(5000)\n",
        "            print(f\"Flask app is live at {public_url}\")\n",
        "            app.run(host='0.0.0.0', port=5000, debug=False)\n",
        "        except Exception as e:\n",
        "            print(f\"Error starting ngrok: {e}\")\n",
        "    else:\n",
        "        print(\"Missing ngrok token.\")\n"
      ],
      "metadata": {
        "colab": {
          "base_uri": "https://localhost:8080/",
          "height": 582
        },
        "id": "BiVvFWAxLlDw",
        "outputId": "6395a71f-719b-4543-d41c-d1da6ed3ce1d"
      },
      "execution_count": 11,
      "outputs": [
        {
          "output_type": "stream",
          "name": "stdout",
          "text": [
            "Drive already mounted at /content/drive; to attempt to forcibly remount, call drive.mount(\"/content/drive\", force_remount=True).\n",
            "Flask app is live at NgrokTunnel: \"https://9122-34-171-197-231.ngrok-free.app\" -> \"http://localhost:5000\"\n",
            " * Serving Flask app '__main__'\n",
            " * Debug mode: off\n"
          ]
        },
        {
          "output_type": "stream",
          "name": "stderr",
          "text": [
            "INFO:werkzeug:\u001b[31m\u001b[1mWARNING: This is a development server. Do not use it in a production deployment. Use a production WSGI server instead.\u001b[0m\n",
            " * Running on all addresses (0.0.0.0)\n",
            " * Running on http://127.0.0.1:5000\n",
            " * Running on http://172.28.0.12:5000\n",
            "INFO:werkzeug:\u001b[33mPress CTRL+C to quit\u001b[0m\n",
            "WARNING:pyngrok.process.ngrok:t=2025-04-12T04:42:09+0000 lvl=warn msg=\"failed to check for update\" obj=updater err=\"Post \\\"https://update.equinox.io/check\\\": context deadline exceeded\"\n",
            "INFO:werkzeug:127.0.0.1 - - [12/Apr/2025 04:42:21] \"OPTIONS /ask HTTP/1.1\" 200 -\n"
          ]
        },
        {
          "output_type": "stream",
          "name": "stdout",
          "text": [
            "Processing merchant.csv with pandas...\n",
            "Processing keywords.csv with pandas...\n",
            "Processing items.csv with pandas...\n",
            "Processing transaction_items.csv with pandas...\n",
            "Processing transaction_data.csv with pandas...\n"
          ]
        },
        {
          "output_type": "stream",
          "name": "stderr",
          "text": [
            "INFO:werkzeug:127.0.0.1 - - [12/Apr/2025 04:42:31] \"POST /ask HTTP/1.1\" 200 -\n",
            "INFO:werkzeug:127.0.0.1 - - [12/Apr/2025 04:42:39] \"OPTIONS /ask HTTP/1.1\" 200 -\n"
          ]
        },
        {
          "output_type": "stream",
          "name": "stdout",
          "text": [
            "Processing merchant.csv with pandas...\n",
            "Processing keywords.csv with pandas...\n",
            "Processing items.csv with pandas...\n",
            "Processing transaction_items.csv with pandas...\n",
            "Processing transaction_data.csv with pandas...\n"
          ]
        },
        {
          "output_type": "stream",
          "name": "stderr",
          "text": [
            "INFO:werkzeug:127.0.0.1 - - [12/Apr/2025 04:42:49] \"POST /ask HTTP/1.1\" 200 -\n",
            "INFO:werkzeug:127.0.0.1 - - [12/Apr/2025 04:43:45] \"OPTIONS /ask HTTP/1.1\" 200 -\n"
          ]
        },
        {
          "output_type": "stream",
          "name": "stdout",
          "text": [
            "Processing merchant.csv with pandas...\n",
            "Processing keywords.csv with pandas...\n",
            "Processing items.csv with pandas...\n",
            "Processing transaction_items.csv with pandas...\n",
            "Processing transaction_data.csv with pandas...\n"
          ]
        },
        {
          "output_type": "stream",
          "name": "stderr",
          "text": [
            "INFO:werkzeug:127.0.0.1 - - [12/Apr/2025 04:43:56] \"POST /ask HTTP/1.1\" 200 -\n"
          ]
        }
      ]
    }
  ]
}