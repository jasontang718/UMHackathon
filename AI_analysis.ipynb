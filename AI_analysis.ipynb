{
  "nbformat": 4,
  "nbformat_minor": 0,
  "metadata": {
    "colab": {
      "provenance": []
    },
    "kernelspec": {
      "name": "python3",
      "display_name": "Python 3"
    },
    "language_info": {
      "name": "python"
    }
  },
  "cells": [
    {
      "cell_type": "code",
      "execution_count": 3,
      "metadata": {
        "colab": {
          "base_uri": "https://localhost:8080/"
        },
        "id": "0skeOuB4LUgL",
        "outputId": "81d46415-1a4d-45ed-9b48-245d0f67f9f1"
      },
      "outputs": [
        {
          "output_type": "stream",
          "name": "stdout",
          "text": [
            "Collecting flask-cors\n",
            "  Using cached flask_cors-5.0.1-py3-none-any.whl.metadata (961 bytes)\n",
            "Requirement already satisfied: flask>=0.9 in /usr/local/lib/python3.11/dist-packages (from flask-cors) (3.1.0)\n",
            "Requirement already satisfied: Werkzeug>=0.7 in /usr/local/lib/python3.11/dist-packages (from flask-cors) (3.1.3)\n",
            "Requirement already satisfied: Jinja2>=3.1.2 in /usr/local/lib/python3.11/dist-packages (from flask>=0.9->flask-cors) (3.1.6)\n",
            "Requirement already satisfied: itsdangerous>=2.2 in /usr/local/lib/python3.11/dist-packages (from flask>=0.9->flask-cors) (2.2.0)\n",
            "Requirement already satisfied: click>=8.1.3 in /usr/local/lib/python3.11/dist-packages (from flask>=0.9->flask-cors) (8.1.8)\n",
            "Requirement already satisfied: blinker>=1.9 in /usr/local/lib/python3.11/dist-packages (from flask>=0.9->flask-cors) (1.9.0)\n",
            "Requirement already satisfied: MarkupSafe>=2.1.1 in /usr/local/lib/python3.11/dist-packages (from Werkzeug>=0.7->flask-cors) (3.0.2)\n",
            "Using cached flask_cors-5.0.1-py3-none-any.whl (11 kB)\n",
            "Installing collected packages: flask-cors\n",
            "Successfully installed flask-cors-5.0.1\n",
            "Requirement already satisfied: pyngrok in /usr/local/lib/python3.11/dist-packages (7.2.3)\n",
            "Requirement already satisfied: PyYAML>=5.1 in /usr/local/lib/python3.11/dist-packages (from pyngrok) (6.0.2)\n"
          ]
        }
      ],
      "source": [
        "!pip install flask-cors\n",
        "!pip install pyngrok\n"
      ]
    },
    {
      "cell_type": "code",
      "source": [
        "from flask import Flask, request, jsonify\n",
        "from flask_cors import CORS\n",
        "import google.generativeai as genai\n",
        "import pandas as pd\n",
        "import os\n",
        "from google.colab import userdata\n",
        "\n",
        "# Initialize Flask\n",
        "app = Flask(__name__)\n",
        "CORS(app, resources={r\"/ask\": {\"origins\": \"http://127.0.0.1:5500\"}})\n",
        "\n",
        "# Dataset folder path (inside repo)\n",
        "DATASET_FOLDER = './datasets'\n",
        "os.makedirs(DATASET_FOLDER, exist_ok=True)\n",
        "\n",
        "# Initialize the Gemini API client\n",
        "GOOGLE_API_KEY = userdata.get('GOOGLE_API_KEY')\n",
        "\n",
        "if not GOOGLE_API_KEY:\n",
        "    print(\"Error: Please set the 'GOOGLE_API_KEY' secret in Colab.\")\n",
        "else:\n",
        "    genai.configure(api_key=GOOGLE_API_KEY)\n",
        "    model = genai.GenerativeModel(model_name='gemini-2.0-flash')\n",
        "\n",
        "    # Define the folder path in Google Drive where your CSV files are stored\n",
        "    folder_path = '/content/drive/My Drive/Hackathon'  # Change this to your folder path\n",
        "\n",
        "    # Get the list of all CSV files in the folder\n",
        "    csv_files = [f for f in os.listdir(folder_path) if f.endswith('.csv')]\n",
        "\n",
        "    # Read and summarize each dataset\n",
        "    dataset_summaries = []\n",
        "\n",
        "    for file_name in csv_files:\n",
        "        file_path = os.path.join(folder_path, file_name)\n",
        "        try:\n",
        "            df = pd.read_csv(file_path)\n",
        "            summary = {\n",
        "                \"file\": file_name,\n",
        "                \"shape\": df.shape,\n",
        "                \"columns\": df.columns.tolist(),\n",
        "                \"data_types\": df.dtypes.astype(str).to_dict(),\n",
        "                \"missing_values\": df.isnull().sum().to_dict(),\n",
        "                \"describe\": df.describe(include='all').to_dict()\n",
        "            }\n",
        "            dataset_summaries.append(summary)\n",
        "        except FileNotFoundError as e:\n",
        "            print(f\"Error: File not found: {file_path}\")\n",
        "        except Exception as e:\n",
        "            print(f\"Error reading file {file_name}: {e}\")\n",
        "\n",
        "    # Define the route to handle user queries\n",
        "    @app.route('/ask', methods=['POST', 'OPTIONS'])\n",
        "    def ask():\n",
        "        if request.method == 'OPTIONS':\n",
        "            return jsonify({'message': 'CORS preflight successful'}), 200\n",
        "        elif request.method == 'POST':\n",
        "            user_query = request.json.get('query', '')\n",
        "            if not user_query:\n",
        "                return jsonify({'error': 'Query is required'}), 400\n",
        "            try:\n",
        "                if GOOGLE_API_KEY:\n",
        "                    corpus_prompt = f\"\"\"\n",
        "         You're an AI chatbot assistant helping a restaurant merchant analyze their sales data and provide insights and recommendations.\n",
        "\n",
        "        Below are summaries of the merchant's sales datasets:\n",
        "\n",
        "        {dataset_summaries}\n",
        "\n",
        "        The merchant asked: \"{user_query}\"\n",
        "\n",
        "        Respond in a clear, helpful, and concise way. Get straight to the point and avoid unnecessary explanations.\n",
        "        Do not show any calculations to the merchant.\n",
        "\n",
        "        Focus on answering the question directly.\n",
        "        Do not mention any backend processes, column names, files, or code logic.\n",
        "        Keep the response informative but minimal.\n",
        "\n",
        "        Give a direct, confident answer — no introductions, no step-by-step explanations, no backend references such as files, column names, variables, calculations, or methods.\n",
        "        Do not explain how you are calculating or getting the data.Do not tell how you determine,analyse or calculate and etc,be straight to the answer.\n",
        "        \"\"\"\n",
        "                    response = model.generate_content(corpus_prompt, generation_config={\"temperature\": 0.2})\n",
        "                    return jsonify({'response': response.text}), 200\n",
        "                else:\n",
        "                    return jsonify({'error': 'Google API key not configured'}), 500\n",
        "            except Exception as e:\n",
        "                print(f\"Error processing query: {e}\")\n",
        "                return jsonify({'error': str(e)}), 500\n",
        "\n",
        "    if __name__ == '__main__':\n",
        "        from pyngrok import ngrok\n",
        "        NGROK_AUTH_TOKEN = userdata.get('NGROK_AUTH_TOKEN')\n",
        "        ngrok.set_auth_token(NGROK_AUTH_TOKEN)  # Replace with your actual ngrok authtoken\n",
        "        try:\n",
        "            public_url = ngrok.connect(5000)\n",
        "            print(f\"Flask app is live at {public_url}\")\n",
        "            app.run(host='0.0.0.0', port=5000, debug=False)\n",
        "        except Exception as e:\n",
        "            print(f\"Error starting ngrok: {e}\")\n"
      ],
      "metadata": {
        "id": "BiVvFWAxLlDw"
      },
      "execution_count": null,
      "outputs": []
    }
  ]
}